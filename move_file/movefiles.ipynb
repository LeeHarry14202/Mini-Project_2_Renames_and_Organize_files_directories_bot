{
 "cells": [
  {
   "cell_type": "code",
   "execution_count": 3,
   "source": [
    "import os\n",
    "from pathlib import Path\n",
    "os.getcwd()"
   ],
   "outputs": [
    {
     "output_type": "execute_result",
     "data": {
      "text/plain": [
       "'/home/lee/Desktop/Mini-Project_2_Renames_and_Organize_files_directories_bot/move_file'"
      ]
     },
     "metadata": {},
     "execution_count": 3
    }
   ],
   "metadata": {}
  },
  {
   "cell_type": "markdown",
   "source": [
    "# 1. Move 1 file from a folder to another"
   ],
   "metadata": {}
  },
  {
   "cell_type": "code",
   "execution_count": 3,
   "source": [
    "# Specify the current location + file name\n",
    "FROM = '/home/lee/Desktop/Mini-Project_2_Renames_and_Organize_files_directories_bot/move_file/from/file.py'\n",
    "# Specify the destination location + file name\n",
    "TO = '/home/lee/Desktop/Mini-Project_2_Renames_and_Organize_files_directories_bot/move_file/destination'\n",
    "# Change name to change directory\n",
    "os.rename(FROM,TO)"
   ],
   "outputs": [],
   "metadata": {}
  },
  {
   "cell_type": "markdown",
   "source": [
    "# 2. Move multiple files from a folder to another"
   ],
   "metadata": {}
  },
  {
   "cell_type": "code",
   "execution_count": 10,
   "source": [
    "FROM = '/home/lee/Desktop/Mini-Project_2_Renames_and_Organize_files_directories_bot/from'\n",
    "TO = '/home/lee/Desktop/Mini-Project_2_Renames_and_Organize_files_directories_bot/destination'\n",
    "os.chdir(FROM)\n",
    "for file in os.listdir(FROM):\n",
    "    file_from = FROM +'/' +file\n",
    "    file_to = TO + '/'+file\n",
    "    os.rename(file_from,file_to) "
   ],
   "outputs": [],
   "metadata": {}
  },
  {
   "cell_type": "markdown",
   "source": [
    "# 3. Move multiple files to multiple folders"
   ],
   "metadata": {}
  },
  {
   "cell_type": "code",
   "execution_count": 9,
   "source": [
    "sub_dir = {\n",
    "'destiantion_1':['file_1.py', 'file_3.py', 'file.py'], \n",
    "'destination_2': ['file_2.py', 'file_4.py'],\n",
    "'destination_3': ['file_5.py', 'file_6.py']\n",
    "}\n",
    "def pick_directory(value):\n",
    "    for destination, files in sub_dir.items():\n",
    "        for file in files:\n",
    "            if value in file:\n",
    "                return destination\n",
    "    return 'Others'"
   ],
   "outputs": [],
   "metadata": {}
  },
  {
   "cell_type": "code",
   "execution_count": 13,
   "source": [
    "os.chdir('/home/lee/Desktop/Mini-Project_2_Renames_and_Organize_files_directories_bot/move_file')\n",
    "for file in os.scandir():\n",
    "    # Specify the current location of all the files\n",
    "    file_from  = Path(file)\n",
    "    directory = pick_directory(str(file_from))\n",
    "    if(directory =='Others'):\n",
    "        continue\n",
    "    else:\n",
    "        dirPath = Path(directory)\n",
    "        file_to = dirPath.joinpath(file_from)\n",
    "\n",
    "    file_from.rename(file_to)"
   ],
   "outputs": [],
   "metadata": {}
  }
 ],
 "metadata": {
  "orig_nbformat": 4,
  "language_info": {
   "name": "python",
   "version": "3.8.8",
   "mimetype": "text/x-python",
   "codemirror_mode": {
    "name": "ipython",
    "version": 3
   },
   "pygments_lexer": "ipython3",
   "nbconvert_exporter": "python",
   "file_extension": ".py"
  },
  "kernelspec": {
   "name": "python3",
   "display_name": "Python 3.8.8 64-bit ('base': conda)"
  },
  "interpreter": {
   "hash": "1c3035d7750c0f27432ff3d4f4b628e25fd4302f4e42116e14eb36fdac0348c5"
  }
 },
 "nbformat": 4,
 "nbformat_minor": 2
}