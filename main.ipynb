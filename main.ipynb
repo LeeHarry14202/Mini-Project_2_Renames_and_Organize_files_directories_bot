{
 "cells": [
  {
   "cell_type": "code",
   "execution_count": 1,
   "source": [
    "from openpyxl import Workbook, load_workbook\n",
    "import os "
   ],
   "outputs": [],
   "metadata": {}
  },
  {
   "cell_type": "markdown",
   "source": [
    "# Task 1: Write code to rename the files based on our dictionary"
   ],
   "metadata": {}
  },
  {
   "cell_type": "markdown",
   "source": [
    "## Task 1.1: Pull video IDs and Titles from excel files to your script"
   ],
   "metadata": {}
  },
  {
   "cell_type": "code",
   "execution_count": 3,
   "source": [
    "path ='/home/lee/Desktop/Mini-Project_2_Renames_and_Organize_files_directories_bot/dataset/database.xlsx'\n",
    "workbook = load_workbook(path)\n",
    "second_sheet_index = 1\n",
    "second_sheet = workbook.get_sheet_names()[second_sheet_index]\n",
    "worksheet = workbook.get_sheet_by_name(second_sheet)"
   ],
   "outputs": [
    {
     "output_type": "stream",
     "name": "stderr",
     "text": [
      "/tmp/ipykernel_287276/3737040535.py:4: DeprecationWarning: Call to deprecated function get_sheet_names (Use wb.sheetnames).\n",
      "  second_sheet = workbook.get_sheet_names()[second_sheet_index]\n",
      "/tmp/ipykernel_287276/3737040535.py:5: DeprecationWarning: Call to deprecated function get_sheet_by_name (Use wb[sheetname]).\n",
      "  worksheet = workbook.get_sheet_by_name(second_sheet)\n"
     ]
    }
   ],
   "metadata": {}
  },
  {
   "cell_type": "code",
   "execution_count": 4,
   "source": [
    "# First column contain video titles\n",
    "first_column = worksheet['A']\n",
    "list_video_titles = []\n",
    "start_row = 1\n",
    "end_row = len(first_column)\n",
    "for row  in range (start_row, end_row):\n",
    "    video_title = first_column[row].value\n",
    "    list_video_titles.append(video_title)\n",
    "print(len(list_video_titles))"
   ],
   "outputs": [
    {
     "output_type": "stream",
     "name": "stdout",
     "text": [
      "23\n"
     ]
    }
   ],
   "metadata": {}
  },
  {
   "cell_type": "code",
   "execution_count": 6,
   "source": [
    "# Second column contain video id\n",
    "second_column = worksheet['B']\n",
    "list_video_ids = []\n",
    "start_row = 1\n",
    "end_row = len(second_column)\n",
    "for row in range (start_row, end_row):\n",
    "    video_id = second_column[row].value\n",
    "    list_video_ids.append(video_id)\n",
    "print(len(list_video_ids))"
   ],
   "outputs": [
    {
     "output_type": "stream",
     "name": "stdout",
     "text": [
      "23\n"
     ]
    }
   ],
   "metadata": {}
  },
  {
   "cell_type": "code",
   "execution_count": 8,
   "source": [
    "# Check type video title and video id\n",
    "print(type(list_video_ids[0]))\n",
    "print(type(list_video_titles[0]))"
   ],
   "outputs": [
    {
     "output_type": "stream",
     "name": "stdout",
     "text": [
      "<class 'float'>\n",
      "<class 'str'>\n"
     ]
    }
   ],
   "metadata": {}
  },
  {
   "cell_type": "code",
   "execution_count": 10,
   "source": [
    "# Can not compare str and float\n",
    "list_video_ids_str = []\n",
    "for video_id in list_video_ids:\n",
    "    # Convert float to int\n",
    "    video_id = int(video_id)\n",
    "    # Convert int to string\n",
    "    video_id = str(video_id)\n",
    "    # Add video id to list\n",
    "    list_video_ids_str.append(video_id)\n",
    "print (type(list_video_ids_str[0]))"
   ],
   "outputs": [
    {
     "output_type": "stream",
     "name": "stdout",
     "text": [
      "<class 'str'>\n"
     ]
    }
   ],
   "metadata": {}
  },
  {
   "cell_type": "markdown",
   "source": [
    "## Task 1.2:  Match the video IDs to its corresponding titles"
   ],
   "metadata": {}
  },
  {
   "cell_type": "code",
   "execution_count": 12,
   "source": [
    "id_dict = {}\n",
    "for i in range  (len(list_video_titles)):\n",
    "    key = list_video_ids_str[i]\n",
    "    value = list_video_titles[i]\n",
    "    id_dict[key] = value\n",
    "    # id_dict.update({list_video_id_str[i]:list_video_titles[i]})\n",
    "print(type(id_dict))"
   ],
   "outputs": [
    {
     "output_type": "stream",
     "name": "stdout",
     "text": [
      "{}\n",
      "<class 'dict'>\n"
     ]
    }
   ],
   "metadata": {}
  },
  {
   "cell_type": "markdown",
   "source": [
    "## Task 1.3: Renaming files from its IDs to its Titles"
   ],
   "metadata": {}
  },
  {
   "cell_type": "code",
   "execution_count": 52,
   "source": [
    "test_file_path = '/home/lee/Desktop/Mini-Project_2_Renames_and_Organize_files_directories_bot/organizeVideos/test'\n",
    "# Os change directory\n",
    "os.chdir(test_file_path)\n",
    "\n",
    "list_video = os.listdir()\n",
    "for video in list_video:\n",
    "    for id, title in id_dict.items():\n",
    "        # Split name and file extension from video name\n",
    "        # Ex: 3434.mp4 so video_name = \"3434\", file_extension = \".mp4\"\n",
    "        video_name, file_extension = os.path.splitext(video)\n",
    "        if id == video_name:\n",
    "            # f is F-string type\n",
    "            name = f'{title}{file_extension}'\n",
    "            print('From:', video, 'To:', name)\n",
    "            os.rename(video, name)"
   ],
   "outputs": [],
   "metadata": {}
  },
  {
   "cell_type": "code",
   "execution_count": 26,
   "source": [
    "for video in list_video:\n",
    "    print(video)"
   ],
   "outputs": [
    {
     "output_type": "stream",
     "name": "stdout",
     "text": [
      "Adult Animation.mp4\n",
      "African-American Action & Adventure from the 1970s.mp4\n",
      "Action Comedies.mp4\n",
      "African-American Crime Action & Adventure.mp4\n",
      "Action Sci-Fi & Fantasy for ages 8 to 10.mp4\n",
      "African-American Crime Comedies.mp4\n",
      "African-American Comedies from the 1970s.mp4\n",
      "African-American Crime Dramas.mp4\n",
      "African-American Crime Documentaries.mp4\n",
      "Dramas starring Jodie Foster.mp4\n",
      "Dramas starring Jeff Daniels.mp4\n",
      "African.mp4\n",
      "Action Thrillers.mp4\n",
      "Dramas starring Jeff Bridges.mp4\n",
      "Action Sci-Fi & Fantasy.mp4\n",
      "Action Sci-Fi & Fantasy on Blu-ray.mp4\n",
      "Dramas starring John Turturro.mp4\n",
      "Action Sci-Fi & Fantasy based on Books.mp4\n",
      "Action & Adventure starring Toshirô Mifune.mp4\n",
      "African-American Comedies.mp4\n",
      "Action Sci-Fi & Fantasy for ages 11 to 12.mp4\n",
      "Action & Adventure starring Yun-Fat Chow.mp4\n",
      "Adventures.mp4\n"
     ]
    }
   ],
   "metadata": {}
  },
  {
   "cell_type": "markdown",
   "source": [
    "# Task 2: Write code to remove the files to the folder of each genre"
   ],
   "metadata": {}
  },
  {
   "cell_type": "markdown",
   "source": [
    "## Task 2.1 : Pull the genres data to our file"
   ],
   "metadata": {}
  },
  {
   "cell_type": "code",
   "execution_count": 49,
   "source": [
    "third_sheet_index = 2\n",
    "third_sheet = workbook.get_sheet_names()[third_sheet_index]\n",
    "worksheet_genre =workbook.get_sheet_by_name(third_sheet)"
   ],
   "outputs": [
    {
     "output_type": "stream",
     "name": "stderr",
     "text": [
      "/tmp/ipykernel_287276/2857679580.py:2: DeprecationWarning: Call to deprecated function get_sheet_names (Use wb.sheetnames).\n",
      "  third_sheet = workbook.get_sheet_names()[third_sheet_index]\n",
      "/tmp/ipykernel_287276/2857679580.py:3: DeprecationWarning: Call to deprecated function get_sheet_by_name (Use wb[sheetname]).\n",
      "  worksheet_genre =workbook.get_sheet_by_name(third_sheet)\n"
     ]
    }
   ],
   "metadata": {}
  },
  {
   "cell_type": "code",
   "execution_count": 50,
   "source": [
    "list_genre = []\n",
    "start_row = 1\n",
    "end_row = len(worksheet_genre['A'])\n",
    "for row in range(start_row,end_row):\n",
    "    genre = worksheet_genre['A'][row].value\n",
    "    list_genre.append(genre)\n",
    "print(list_genre)"
   ],
   "outputs": [
    {
     "output_type": "stream",
     "name": "stdout",
     "text": [
      "['Action & Adventure', 'Anime', 'Children & Family', 'Classic', 'Comedies', 'Documentaries', 'Dramas', 'Horror', 'Music', 'Romantic', 'Sci-fi & Fantasy', 'Sports', 'Thrillers', 'TV Shows']\n"
     ]
    }
   ],
   "metadata": {}
  },
  {
   "cell_type": "markdown",
   "source": [
    "## Task 2.2: Match the files with their genre"
   ],
   "metadata": {}
  },
  {
   "cell_type": "code",
   "execution_count": 66,
   "source": [
    "genre_dict= {}\n",
    "for genre  in list_genre:\n",
    "    key = genre\n",
    "    # many movies can be same genre, so value is a list of movie \n",
    "    value = []\n",
    "    genre_dict[key] = value\n",
    "for each_video in list_video:\n",
    "    # key = genre, values is a list of movie video\n",
    "    for key, values in genre_dict.items():\n",
    "        if key in each_video:\n",
    "            values.append(each_video )\n",
    "print(genre_dict)"
   ],
   "outputs": [
    {
     "output_type": "stream",
     "name": "stdout",
     "text": [
      "{'Action & Adventure': ['African-American Action & Adventure from the 1970s.mp4', 'African-American Crime Action & Adventure.mp4', 'Action & Adventure starring Toshirô Mifune.mp4', 'Action & Adventure starring Yun-Fat Chow.mp4'], 'Anime': [], 'Children & Family': [], 'Classic': [], 'Comedies': ['Action Comedies.mp4', 'African-American Crime Comedies.mp4', 'African-American Comedies from the 1970s.mp4', 'African-American Comedies.mp4'], 'Documentaries': ['African-American Crime Documentaries.mp4'], 'Dramas': ['African-American Crime Dramas.mp4', 'Dramas starring Jodie Foster.mp4', 'Dramas starring Jeff Daniels.mp4', 'Dramas starring Jeff Bridges.mp4', 'Dramas starring John Turturro.mp4'], 'Horror': [], 'Music': [], 'Romantic': [], 'Sci-fi & Fantasy': [], 'Sports': [], 'Thrillers': ['Action Thrillers.mp4'], 'TV Shows': []}\n"
     ]
    }
   ],
   "metadata": {}
  },
  {
   "cell_type": "code",
   "execution_count": 78,
   "source": [
    "def check_genre(value):\n",
    "    print(value)\n",
    "    for genre in list_genre:\n",
    "        if genre in value:\n",
    "            return genre\n",
    "    return \"Others\""
   ],
   "outputs": [
    {
     "output_type": "stream",
     "name": "stdout",
     "text": [
      "African-American Action & Adventure from the 1970s.mp4\n"
     ]
    },
    {
     "output_type": "execute_result",
     "data": {
      "text/plain": [
       "'Action & Adventure'"
      ]
     },
     "metadata": {},
     "execution_count": 78
    }
   ],
   "metadata": {}
  },
  {
   "cell_type": "code",
   "execution_count": null,
   "source": [],
   "outputs": [],
   "metadata": {}
  }
 ],
 "metadata": {
  "orig_nbformat": 4,
  "language_info": {
   "name": "python",
   "version": "3.8.8",
   "mimetype": "text/x-python",
   "codemirror_mode": {
    "name": "ipython",
    "version": 3
   },
   "pygments_lexer": "ipython3",
   "nbconvert_exporter": "python",
   "file_extension": ".py"
  },
  "kernelspec": {
   "name": "python3",
   "display_name": "Python 3.8.8 64-bit ('base': conda)"
  },
  "interpreter": {
   "hash": "1c3035d7750c0f27432ff3d4f4b628e25fd4302f4e42116e14eb36fdac0348c5"
  }
 },
 "nbformat": 4,
 "nbformat_minor": 2
}