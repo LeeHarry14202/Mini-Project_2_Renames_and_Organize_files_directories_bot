{
 "cells": [
  {
   "cell_type": "code",
   "execution_count": 10,
   "source": [
    "from openpyxl import Workbook, load_workbook\n",
    "import os "
   ],
   "outputs": [],
   "metadata": {}
  },
  {
   "cell_type": "markdown",
   "source": [
    "# Task 1: Pull video  IDs and Titles from excel files"
   ],
   "metadata": {}
  },
  {
   "cell_type": "markdown",
   "source": [
    "## Task 1.1: "
   ],
   "metadata": {}
  },
  {
   "cell_type": "code",
   "execution_count": 11,
   "source": [
    "path ='/home/lee/Desktop/Rename_and_organize-file/dataset/database.xlsx'\n",
    "workbook = load_workbook(path)\n",
    "second_sheet_index = 1\n",
    "second_sheet = workbook.get_sheet_names()[second_sheet_index]\n",
    "worksheet = workbook.get_sheet_by_name(second_sheet)"
   ],
   "outputs": [
    {
     "output_type": "stream",
     "name": "stderr",
     "text": [
      "/tmp/ipykernel_92870/2180818413.py:4: DeprecationWarning: Call to deprecated function get_sheet_names (Use wb.sheetnames).\n",
      "  second_sheet = workbook.get_sheet_names()[second_sheet_index]\n",
      "/tmp/ipykernel_92870/2180818413.py:5: DeprecationWarning: Call to deprecated function get_sheet_by_name (Use wb[sheetname]).\n",
      "  worksheet = workbook.get_sheet_by_name(second_sheet)\n"
     ]
    }
   ],
   "metadata": {}
  },
  {
   "cell_type": "code",
   "execution_count": 38,
   "source": [
    "# First column contain video titles\n",
    "first_column = worksheet['A']\n",
    "list_video_titles = []\n",
    "start_row = 1\n",
    "end_row = len(first_column)\n",
    "for cell_row_index  in range (start_row, end_row):\n",
    "    video_title = first_column[cell_row_index].value\n",
    "    list_video_titles.append(video_title)\n",
    "print(len(list_video_titles))"
   ],
   "outputs": [
    {
     "output_type": "stream",
     "name": "stdout",
     "text": [
      "23\n"
     ]
    }
   ],
   "metadata": {}
  },
  {
   "cell_type": "code",
   "execution_count": 37,
   "source": [
    "# Second column contain video id\n",
    "second_column = worksheet['B']\n",
    "list_video_id = []\n",
    "start_row = 1\n",
    "end_row = len(second_column)\n",
    "for cell_row_index in range (start_row, end_row):\n",
    "    video_id = second_column[cell_row_index].value\n",
    "    list_video_id.append(video_id)\n",
    "print(len(list_video_id))"
   ],
   "outputs": [
    {
     "output_type": "stream",
     "name": "stdout",
     "text": [
      "23\n"
     ]
    }
   ],
   "metadata": {}
  },
  {
   "cell_type": "code",
   "execution_count": 14,
   "source": [
    "# Check type video title and video id\n",
    "print(type(list_video_id[0]))\n",
    "print(type(list_video_titles[0]))"
   ],
   "outputs": [
    {
     "output_type": "stream",
     "name": "stdout",
     "text": [
      "<class 'float'>\n",
      "<class 'str'>\n"
     ]
    }
   ],
   "metadata": {}
  },
  {
   "cell_type": "code",
   "execution_count": 34,
   "source": [
    "# Can not compare str and float\n",
    "list_video_id_str = []\n",
    "for video_id in list_video_id:\n",
    "    list_video_id_str.append(str(int(video_id)))\n",
    "print (type(list_video_id_str[0]))"
   ],
   "outputs": [
    {
     "output_type": "stream",
     "name": "stdout",
     "text": [
      "<class 'str'>\n"
     ]
    }
   ],
   "metadata": {}
  },
  {
   "cell_type": "markdown",
   "source": [
    "## Task 1.2:  Match IDs with Titles"
   ],
   "metadata": {}
  },
  {
   "cell_type": "code",
   "execution_count": 40,
   "source": [
    "id_dict = {}\n",
    "for i in range  (len(list_video_titles)):\n",
    "    id_dict[list_video_id_str[i]] = list_video_titles[i]\n",
    "    # id_dict.update({list_video_id_str[i]:list_video_titles[i]})"
   ],
   "outputs": [],
   "metadata": {}
  },
  {
   "cell_type": "markdown",
   "source": [
    "## Task 1.3: Renaming files from IDs to  Titles"
   ],
   "metadata": {}
  },
  {
   "cell_type": "code",
   "execution_count": 60,
   "source": [
    "test_path = '/home/lee/Desktop/Rename_and_organize-file/organizeVideos/test'\n",
    "# Os change directory\n",
    "os.chdir(test_path)\n",
    "list_video = os.listdir()\n",
    "for video in list_video:\n",
    "    # video name have endwith mp4, get video name only\n",
    "    for ids, titles in id_dict.items():\n",
    "        video_name, extension = os.path.splitext(video)\n",
    "        if ids == video_name :\n",
    "            # f is F-string\n",
    "            name = f'{titles}{extension}'\n",
    "            print('From:', video, 'To:', name)\n",
    "            os.rename(video, name)"
   ],
   "outputs": [
    {
     "output_type": "stream",
     "name": "stdout",
     "text": [
      "From: 3053.mp4 To: African-American Crime Action & Adventure.mp4\n",
      "From: 43048.mp4 To: Action Thrillers.mp4\n",
      "From: 2247.mp4 To: Action Sci-Fi & Fantasy for ages 8 to 10.mp4\n",
      "From: 3959.mp4 To: African-American Crime Dramas.mp4\n",
      "From: 1738.mp4 To: Dramas starring Jodie Foster.mp4\n",
      "From: 2116.mp4 To: Action Sci-Fi & Fantasy based on Books.mp4\n",
      "From: 1441.mp4 To: Action & Adventure starring Toshirô Mifune.mp4\n",
      "From: 3214.mp4 To: Dramas starring Jeff Daniels.mp4\n",
      "From: 1568.mp4 To: Action Sci-Fi & Fantasy.mp4\n",
      "From: 4223.mp4 To: Dramas starring Jeff Bridges.mp4\n",
      "From: 3392.mp4 To: Action Sci-Fi & Fantasy for ages 11 to 12.mp4\n",
      "From: 4906.mp4 To: African-American Comedies.mp4\n",
      "From: 1748.mp4 To: Dramas starring John Turturro.mp4\n",
      "From: 43040.mp4 To: Action Comedies.mp4\n",
      "From: 2449.mp4 To: Action & Adventure starring Yun-Fat Chow.mp4\n",
      "From: 2797.mp4 To: Action Sci-Fi & Fantasy on Blu-ray.mp4\n",
      "From: 3761.mp4 To: African.mp4\n",
      "From: 11881.mp4 To: Adult Animation.mp4\n",
      "From: 2571.mp4 To: African-American Action & Adventure from the 1970s.mp4\n",
      "From: 4062.mp4 To: African-American Comedies from the 1970s.mp4\n",
      "From: 177.mp4 To: African-American Crime Comedies.mp4\n",
      "From: 1.mp4 To: African-American Crime Documentaries.mp4\n",
      "From: 7442.mp4 To: Adventures.mp4\n"
     ]
    }
   ],
   "metadata": {}
  }
 ],
 "metadata": {
  "orig_nbformat": 4,
  "language_info": {
   "name": "python",
   "version": "3.8.8",
   "mimetype": "text/x-python",
   "codemirror_mode": {
    "name": "ipython",
    "version": 3
   },
   "pygments_lexer": "ipython3",
   "nbconvert_exporter": "python",
   "file_extension": ".py"
  },
  "kernelspec": {
   "name": "python3",
   "display_name": "Python 3.8.8 64-bit ('base': conda)"
  },
  "interpreter": {
   "hash": "1c3035d7750c0f27432ff3d4f4b628e25fd4302f4e42116e14eb36fdac0348c5"
  }
 },
 "nbformat": 4,
 "nbformat_minor": 2
}